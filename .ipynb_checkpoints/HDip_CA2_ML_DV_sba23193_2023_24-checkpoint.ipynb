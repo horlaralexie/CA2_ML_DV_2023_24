{
 "cells": [
  {
   "cell_type": "code",
   "execution_count": 1,
   "id": "a30ad997",
   "metadata": {},
   "outputs": [],
   "source": [
    "import pandas as pd\n",
    "import numpy as np\n",
    "from sklearn.metrics.pairwise import cosine_similarity"
   ]
  },
  {
   "cell_type": "code",
   "execution_count": 2,
   "id": "3933bc1d",
   "metadata": {},
   "outputs": [
    {
     "data": {
      "text/plain": [
       "0.5000000000000001"
      ]
     },
     "execution_count": 2,
     "metadata": {},
     "output_type": "execute_result"
    }
   ],
   "source": [
    "np.cos(np.pi/3)"
   ]
  },
  {
   "cell_type": "code",
   "execution_count": 3,
   "id": "6c82e5e9",
   "metadata": {},
   "outputs": [],
   "source": [
    "df_rating = pd.read_csv(\"RAW_interactions.csv\")"
   ]
  },
  {
   "cell_type": "code",
   "execution_count": 4,
   "id": "0dde2a10",
   "metadata": {},
   "outputs": [
    {
     "data": {
      "text/plain": [
       "(1132367, 5)"
      ]
     },
     "execution_count": 4,
     "metadata": {},
     "output_type": "execute_result"
    }
   ],
   "source": [
    "df_rating.shape"
   ]
  },
  {
   "cell_type": "code",
   "execution_count": null,
   "id": "11e0bfeb",
   "metadata": {},
   "outputs": [],
   "source": []
  }
 ],
 "metadata": {
  "kernelspec": {
   "display_name": "Python 3 (ipykernel)",
   "language": "python",
   "name": "python3"
  },
  "language_info": {
   "codemirror_mode": {
    "name": "ipython",
    "version": 3
   },
   "file_extension": ".py",
   "mimetype": "text/x-python",
   "name": "python",
   "nbconvert_exporter": "python",
   "pygments_lexer": "ipython3",
   "version": "3.11.3"
  }
 },
 "nbformat": 4,
 "nbformat_minor": 5
}
