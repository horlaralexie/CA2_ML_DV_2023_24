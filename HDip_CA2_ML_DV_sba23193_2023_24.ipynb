{
 "cells": [
  {
   "cell_type": "code",
   "execution_count": 1,
   "id": "a30ad997",
   "metadata": {},
   "outputs": [],
   "source": [
    "# Importing the Panda DataFrame libraries\n",
    "\n",
    "import pandas as pd\n",
    "import numpy as np\n",
    "from sklearn.metrics.pairwise import cosine_similarity"
   ]
  },
  {
   "cell_type": "code",
   "execution_count": 2,
   "id": "3933bc1d",
   "metadata": {},
   "outputs": [
    {
     "data": {
      "text/plain": [
       "0.5000000000000001"
      ]
     },
     "execution_count": 2,
     "metadata": {},
     "output_type": "execute_result"
    }
   ],
   "source": [
    "np.cos(np.pi/3)"
   ]
  },
  {
   "cell_type": "code",
   "execution_count": 3,
   "id": "6c82e5e9",
   "metadata": {},
   "outputs": [],
   "source": [
    "# Loading data into the DataFrame\n",
    "\n",
    "df_rating = pd.read_csv(\"RAW_interactions.csv\")"
   ]
  },
  {
   "cell_type": "code",
   "execution_count": 4,
   "id": "0dde2a10",
   "metadata": {},
   "outputs": [
    {
     "data": {
      "text/plain": [
       "(1132367, 5)"
      ]
     },
     "execution_count": 4,
     "metadata": {},
     "output_type": "execute_result"
    }
   ],
   "source": [
    "# # I want to do the characterisation of the data set: size; number of attributes; has/does not have missing values,number of observations.\n",
    "\n",
    "# I want to know the number of attributes/ observations in the dataset\n",
    "\n",
    "df_rating.shape"
   ]
  },
  {
   "cell_type": "code",
   "execution_count": 6,
   "id": "dd4a3958",
   "metadata": {},
   "outputs": [
    {
     "data": {
      "text/html": [
       "<div>\n",
       "<style scoped>\n",
       "    .dataframe tbody tr th:only-of-type {\n",
       "        vertical-align: middle;\n",
       "    }\n",
       "\n",
       "    .dataframe tbody tr th {\n",
       "        vertical-align: top;\n",
       "    }\n",
       "\n",
       "    .dataframe thead th {\n",
       "        text-align: right;\n",
       "    }\n",
       "</style>\n",
       "<table border=\"1\" class=\"dataframe\">\n",
       "  <thead>\n",
       "    <tr style=\"text-align: right;\">\n",
       "      <th></th>\n",
       "      <th>user_id</th>\n",
       "      <th>recipe_id</th>\n",
       "      <th>date</th>\n",
       "      <th>rating</th>\n",
       "      <th>review</th>\n",
       "    </tr>\n",
       "  </thead>\n",
       "  <tbody>\n",
       "    <tr>\n",
       "      <th>0</th>\n",
       "      <td>38094</td>\n",
       "      <td>40893</td>\n",
       "      <td>2003-02-17</td>\n",
       "      <td>4</td>\n",
       "      <td>Great with a salad. Cooked on top of stove for...</td>\n",
       "    </tr>\n",
       "    <tr>\n",
       "      <th>1</th>\n",
       "      <td>1293707</td>\n",
       "      <td>40893</td>\n",
       "      <td>2011-12-21</td>\n",
       "      <td>5</td>\n",
       "      <td>So simple, so delicious! Great for chilly fall...</td>\n",
       "    </tr>\n",
       "    <tr>\n",
       "      <th>2</th>\n",
       "      <td>8937</td>\n",
       "      <td>44394</td>\n",
       "      <td>2002-12-01</td>\n",
       "      <td>4</td>\n",
       "      <td>This worked very well and is EASY.  I used not...</td>\n",
       "    </tr>\n",
       "    <tr>\n",
       "      <th>3</th>\n",
       "      <td>126440</td>\n",
       "      <td>85009</td>\n",
       "      <td>2010-02-27</td>\n",
       "      <td>5</td>\n",
       "      <td>I made the Mexican topping and took it to bunk...</td>\n",
       "    </tr>\n",
       "    <tr>\n",
       "      <th>4</th>\n",
       "      <td>57222</td>\n",
       "      <td>85009</td>\n",
       "      <td>2011-10-01</td>\n",
       "      <td>5</td>\n",
       "      <td>Made the cheddar bacon topping, adding a sprin...</td>\n",
       "    </tr>\n",
       "  </tbody>\n",
       "</table>\n",
       "</div>"
      ],
      "text/plain": [
       "   user_id  recipe_id        date  rating  \\\n",
       "0    38094      40893  2003-02-17       4   \n",
       "1  1293707      40893  2011-12-21       5   \n",
       "2     8937      44394  2002-12-01       4   \n",
       "3   126440      85009  2010-02-27       5   \n",
       "4    57222      85009  2011-10-01       5   \n",
       "\n",
       "                                              review  \n",
       "0  Great with a salad. Cooked on top of stove for...  \n",
       "1  So simple, so delicious! Great for chilly fall...  \n",
       "2  This worked very well and is EASY.  I used not...  \n",
       "3  I made the Mexican topping and took it to bunk...  \n",
       "4  Made the cheddar bacon topping, adding a sprin...  "
      ]
     },
     "execution_count": 6,
     "metadata": {},
     "output_type": "execute_result"
    }
   ],
   "source": [
    "# view the first five rows to know what the dataset looks like\n",
    "\n",
    "df_rating.head()"
   ]
  },
  {
   "cell_type": "code",
   "execution_count": 5,
   "id": "6fa9f14f",
   "metadata": {},
   "outputs": [
    {
     "data": {
      "text/html": [
       "<div>\n",
       "<style scoped>\n",
       "    .dataframe tbody tr th:only-of-type {\n",
       "        vertical-align: middle;\n",
       "    }\n",
       "\n",
       "    .dataframe tbody tr th {\n",
       "        vertical-align: top;\n",
       "    }\n",
       "\n",
       "    .dataframe thead th {\n",
       "        text-align: right;\n",
       "    }\n",
       "</style>\n",
       "<table border=\"1\" class=\"dataframe\">\n",
       "  <thead>\n",
       "    <tr style=\"text-align: right;\">\n",
       "      <th></th>\n",
       "      <th>user_id</th>\n",
       "      <th>recipe_id</th>\n",
       "      <th>date</th>\n",
       "      <th>rating</th>\n",
       "      <th>review</th>\n",
       "    </tr>\n",
       "  </thead>\n",
       "  <tbody>\n",
       "    <tr>\n",
       "      <th>17205</th>\n",
       "      <td>280840</td>\n",
       "      <td>41020</td>\n",
       "      <td>2007-04-10</td>\n",
       "      <td>5</td>\n",
       "      <td>This chili was absolutely outstanding! My chil...</td>\n",
       "    </tr>\n",
       "    <tr>\n",
       "      <th>270955</th>\n",
       "      <td>157425</td>\n",
       "      <td>255324</td>\n",
       "      <td>2010-12-21</td>\n",
       "      <td>5</td>\n",
       "      <td>Took a cue from one of the other reveiwers and...</td>\n",
       "    </tr>\n",
       "    <tr>\n",
       "      <th>533110</th>\n",
       "      <td>192581</td>\n",
       "      <td>281825</td>\n",
       "      <td>2010-01-04</td>\n",
       "      <td>5</td>\n",
       "      <td>Truly excellent mac and cheese.  I wanted to p...</td>\n",
       "    </tr>\n",
       "    <tr>\n",
       "      <th>464586</th>\n",
       "      <td>535633</td>\n",
       "      <td>199084</td>\n",
       "      <td>2008-12-04</td>\n",
       "      <td>5</td>\n",
       "      <td>I made this for breakfast this am  and my Moth...</td>\n",
       "    </tr>\n",
       "    <tr>\n",
       "      <th>948792</th>\n",
       "      <td>289308</td>\n",
       "      <td>41541</td>\n",
       "      <td>2008-12-07</td>\n",
       "      <td>4</td>\n",
       "      <td>Tasty!  Did not get quite as candied (crunchy ...</td>\n",
       "    </tr>\n",
       "    <tr>\n",
       "      <th>756617</th>\n",
       "      <td>147027</td>\n",
       "      <td>167481</td>\n",
       "      <td>2009-07-27</td>\n",
       "      <td>5</td>\n",
       "      <td>I made this to use in recipe 167479 (Recipe St...</td>\n",
       "    </tr>\n",
       "    <tr>\n",
       "      <th>306696</th>\n",
       "      <td>2462794</td>\n",
       "      <td>360528</td>\n",
       "      <td>2014-03-12</td>\n",
       "      <td>5</td>\n",
       "      <td>I made this last night and it turned out very ...</td>\n",
       "    </tr>\n",
       "    <tr>\n",
       "      <th>890130</th>\n",
       "      <td>486718</td>\n",
       "      <td>177558</td>\n",
       "      <td>2009-10-05</td>\n",
       "      <td>5</td>\n",
       "      <td>Very easy and came out perfectly!! This is the...</td>\n",
       "    </tr>\n",
       "    <tr>\n",
       "      <th>806149</th>\n",
       "      <td>679759</td>\n",
       "      <td>292607</td>\n",
       "      <td>2009-01-05</td>\n",
       "      <td>4</td>\n",
       "      <td>This was a good recipe and the meat was very t...</td>\n",
       "    </tr>\n",
       "    <tr>\n",
       "      <th>321639</th>\n",
       "      <td>1396309</td>\n",
       "      <td>65911</td>\n",
       "      <td>2011-07-23</td>\n",
       "      <td>5</td>\n",
       "      <td>Really great! I was skeptical at the spices, b...</td>\n",
       "    </tr>\n",
       "  </tbody>\n",
       "</table>\n",
       "</div>"
      ],
      "text/plain": [
       "        user_id  recipe_id        date  rating  \\\n",
       "17205    280840      41020  2007-04-10       5   \n",
       "270955   157425     255324  2010-12-21       5   \n",
       "533110   192581     281825  2010-01-04       5   \n",
       "464586   535633     199084  2008-12-04       5   \n",
       "948792   289308      41541  2008-12-07       4   \n",
       "756617   147027     167481  2009-07-27       5   \n",
       "306696  2462794     360528  2014-03-12       5   \n",
       "890130   486718     177558  2009-10-05       5   \n",
       "806149   679759     292607  2009-01-05       4   \n",
       "321639  1396309      65911  2011-07-23       5   \n",
       "\n",
       "                                                   review  \n",
       "17205   This chili was absolutely outstanding! My chil...  \n",
       "270955  Took a cue from one of the other reveiwers and...  \n",
       "533110  Truly excellent mac and cheese.  I wanted to p...  \n",
       "464586  I made this for breakfast this am  and my Moth...  \n",
       "948792  Tasty!  Did not get quite as candied (crunchy ...  \n",
       "756617  I made this to use in recipe 167479 (Recipe St...  \n",
       "306696  I made this last night and it turned out very ...  \n",
       "890130  Very easy and came out perfectly!! This is the...  \n",
       "806149  This was a good recipe and the meat was very t...  \n",
       "321639  Really great! I was skeptical at the spices, b...  "
      ]
     },
     "execution_count": 5,
     "metadata": {},
     "output_type": "execute_result"
    }
   ],
   "source": [
    "df_rating.sample(10)"
   ]
  },
  {
   "cell_type": "markdown",
   "id": "ba3168b0",
   "metadata": {},
   "source": [
    "### Data preparation for Recommendation Analysis"
   ]
  },
  {
   "cell_type": "code",
   "execution_count": 7,
   "id": "3054e0c2",
   "metadata": {},
   "outputs": [
    {
     "name": "stdout",
     "output_type": "stream",
     "text": [
      "<class 'pandas.core.frame.DataFrame'>\n",
      "RangeIndex: 1132367 entries, 0 to 1132366\n",
      "Data columns (total 5 columns):\n",
      " #   Column     Non-Null Count    Dtype \n",
      "---  ------     --------------    ----- \n",
      " 0   user_id    1132367 non-null  int64 \n",
      " 1   recipe_id  1132367 non-null  int64 \n",
      " 2   date       1132367 non-null  object\n",
      " 3   rating     1132367 non-null  int64 \n",
      " 4   review     1132198 non-null  object\n",
      "dtypes: int64(3), object(2)\n",
      "memory usage: 43.2+ MB\n"
     ]
    }
   ],
   "source": [
    "# Checking the data types  present in the data dictionary\n",
    "\n",
    "df_rating.info()"
   ]
  },
  {
   "cell_type": "code",
   "execution_count": 8,
   "id": "d8032ed5",
   "metadata": {},
   "outputs": [
    {
     "data": {
      "text/plain": [
       "user_id        0\n",
       "recipe_id      0\n",
       "date           0\n",
       "rating         0\n",
       "review       169\n",
       "dtype: int64"
      ]
     },
     "execution_count": 8,
     "metadata": {},
     "output_type": "execute_result"
    }
   ],
   "source": [
    "# Check for missing values \n",
    "\n",
    "df_rating.isnull().sum()"
   ]
  },
  {
   "cell_type": "code",
   "execution_count": 9,
   "id": "822b71f9",
   "metadata": {},
   "outputs": [
    {
     "data": {
      "text/plain": [
       "0"
      ]
     },
     "execution_count": 9,
     "metadata": {},
     "output_type": "execute_result"
    }
   ],
   "source": [
    "# Checking for duplicates\n",
    "\n",
    "df_rating.duplicated().sum()"
   ]
  },
  {
   "cell_type": "code",
   "execution_count": null,
   "id": "682924d7",
   "metadata": {},
   "outputs": [],
   "source": [
    "# We are going to drop review since we do not need it for the recommnendation purposes.\n",
    "\n",
    "df_"
   ]
  }
 ],
 "metadata": {
  "kernelspec": {
   "display_name": "Python 3 (ipykernel)",
   "language": "python",
   "name": "python3"
  },
  "language_info": {
   "codemirror_mode": {
    "name": "ipython",
    "version": 3
   },
   "file_extension": ".py",
   "mimetype": "text/x-python",
   "name": "python",
   "nbconvert_exporter": "python",
   "pygments_lexer": "ipython3",
   "version": "3.11.3"
  }
 },
 "nbformat": 4,
 "nbformat_minor": 5
}
