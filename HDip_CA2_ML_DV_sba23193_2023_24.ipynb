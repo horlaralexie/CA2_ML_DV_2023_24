{
 "cells": [
  {
   "cell_type": "code",
   "execution_count": 1,
   "id": "a30ad997",
   "metadata": {},
   "outputs": [],
   "source": [
    "# Importing the Panda DataFrame libraries\n",
    "\n",
    "import pandas as pd\n",
    "import numpy as np\n",
    "from sklearn.metrics.pairwise import cosine_similarity"
   ]
  },
  {
   "cell_type": "code",
   "execution_count": 2,
   "id": "3933bc1d",
   "metadata": {},
   "outputs": [
    {
     "data": {
      "text/plain": [
       "0.5000000000000001"
      ]
     },
     "execution_count": 2,
     "metadata": {},
     "output_type": "execute_result"
    }
   ],
   "source": [
    "np.cos(np.pi/3)"
   ]
  },
  {
   "cell_type": "code",
   "execution_count": 3,
   "id": "6c82e5e9",
   "metadata": {},
   "outputs": [],
   "source": [
    "# Loading data into the DataFrame\n",
    "\n",
    "df_rating = pd.read_csv(\"RAW_interactions.csv\")"
   ]
  },
  {
   "cell_type": "code",
   "execution_count": 4,
   "id": "0dde2a10",
   "metadata": {},
   "outputs": [
    {
     "data": {
      "text/plain": [
       "(1132367, 5)"
      ]
     },
     "execution_count": 4,
     "metadata": {},
     "output_type": "execute_result"
    }
   ],
   "source": [
    "# # I want to do the characterisation of the data set: size; number of attributes; has/does not have missing values,number of observations.\n",
    "\n",
    "# I want to know the number of attributes/ observations in the dataset\n",
    "\n",
    "df_rating.shape"
   ]
  },
  {
   "cell_type": "code",
   "execution_count": 6,
   "id": "a4ba7e31",
   "metadata": {},
   "outputs": [
    {
     "data": {
      "text/html": [
       "<div>\n",
       "<style scoped>\n",
       "    .dataframe tbody tr th:only-of-type {\n",
       "        vertical-align: middle;\n",
       "    }\n",
       "\n",
       "    .dataframe tbody tr th {\n",
       "        vertical-align: top;\n",
       "    }\n",
       "\n",
       "    .dataframe thead th {\n",
       "        text-align: right;\n",
       "    }\n",
       "</style>\n",
       "<table border=\"1\" class=\"dataframe\">\n",
       "  <thead>\n",
       "    <tr style=\"text-align: right;\">\n",
       "      <th></th>\n",
       "      <th>user_id</th>\n",
       "      <th>recipe_id</th>\n",
       "      <th>date</th>\n",
       "      <th>rating</th>\n",
       "      <th>review</th>\n",
       "    </tr>\n",
       "  </thead>\n",
       "  <tbody>\n",
       "    <tr>\n",
       "      <th>0</th>\n",
       "      <td>38094</td>\n",
       "      <td>40893</td>\n",
       "      <td>2003-02-17</td>\n",
       "      <td>4</td>\n",
       "      <td>Great with a salad. Cooked on top of stove for...</td>\n",
       "    </tr>\n",
       "    <tr>\n",
       "      <th>1</th>\n",
       "      <td>1293707</td>\n",
       "      <td>40893</td>\n",
       "      <td>2011-12-21</td>\n",
       "      <td>5</td>\n",
       "      <td>So simple, so delicious! Great for chilly fall...</td>\n",
       "    </tr>\n",
       "    <tr>\n",
       "      <th>2</th>\n",
       "      <td>8937</td>\n",
       "      <td>44394</td>\n",
       "      <td>2002-12-01</td>\n",
       "      <td>4</td>\n",
       "      <td>This worked very well and is EASY.  I used not...</td>\n",
       "    </tr>\n",
       "    <tr>\n",
       "      <th>3</th>\n",
       "      <td>126440</td>\n",
       "      <td>85009</td>\n",
       "      <td>2010-02-27</td>\n",
       "      <td>5</td>\n",
       "      <td>I made the Mexican topping and took it to bunk...</td>\n",
       "    </tr>\n",
       "    <tr>\n",
       "      <th>4</th>\n",
       "      <td>57222</td>\n",
       "      <td>85009</td>\n",
       "      <td>2011-10-01</td>\n",
       "      <td>5</td>\n",
       "      <td>Made the cheddar bacon topping, adding a sprin...</td>\n",
       "    </tr>\n",
       "  </tbody>\n",
       "</table>\n",
       "</div>"
      ],
      "text/plain": [
       "   user_id  recipe_id        date  rating  \\\n",
       "0    38094      40893  2003-02-17       4   \n",
       "1  1293707      40893  2011-12-21       5   \n",
       "2     8937      44394  2002-12-01       4   \n",
       "3   126440      85009  2010-02-27       5   \n",
       "4    57222      85009  2011-10-01       5   \n",
       "\n",
       "                                              review  \n",
       "0  Great with a salad. Cooked on top of stove for...  \n",
       "1  So simple, so delicious! Great for chilly fall...  \n",
       "2  This worked very well and is EASY.  I used not...  \n",
       "3  I made the Mexican topping and took it to bunk...  \n",
       "4  Made the cheddar bacon topping, adding a sprin...  "
      ]
     },
     "execution_count": 6,
     "metadata": {},
     "output_type": "execute_result"
    }
   ],
   "source": [
    "# view the first five rows to know what the dataset looks like\n",
    "\n",
    "df_rating.head()"
   ]
  },
  {
   "cell_type": "code",
   "execution_count": 5,
   "id": "b1223a66",
   "metadata": {},
   "outputs": [
    {
     "data": {
      "text/html": [
       "<div>\n",
       "<style scoped>\n",
       "    .dataframe tbody tr th:only-of-type {\n",
       "        vertical-align: middle;\n",
       "    }\n",
       "\n",
       "    .dataframe tbody tr th {\n",
       "        vertical-align: top;\n",
       "    }\n",
       "\n",
       "    .dataframe thead th {\n",
       "        text-align: right;\n",
       "    }\n",
       "</style>\n",
       "<table border=\"1\" class=\"dataframe\">\n",
       "  <thead>\n",
       "    <tr style=\"text-align: right;\">\n",
       "      <th></th>\n",
       "      <th>user_id</th>\n",
       "      <th>recipe_id</th>\n",
       "      <th>date</th>\n",
       "      <th>rating</th>\n",
       "      <th>review</th>\n",
       "    </tr>\n",
       "  </thead>\n",
       "  <tbody>\n",
       "    <tr>\n",
       "      <th>17205</th>\n",
       "      <td>280840</td>\n",
       "      <td>41020</td>\n",
       "      <td>2007-04-10</td>\n",
       "      <td>5</td>\n",
       "      <td>This chili was absolutely outstanding! My chil...</td>\n",
       "    </tr>\n",
       "    <tr>\n",
       "      <th>270955</th>\n",
       "      <td>157425</td>\n",
       "      <td>255324</td>\n",
       "      <td>2010-12-21</td>\n",
       "      <td>5</td>\n",
       "      <td>Took a cue from one of the other reveiwers and...</td>\n",
       "    </tr>\n",
       "    <tr>\n",
       "      <th>533110</th>\n",
       "      <td>192581</td>\n",
       "      <td>281825</td>\n",
       "      <td>2010-01-04</td>\n",
       "      <td>5</td>\n",
       "      <td>Truly excellent mac and cheese.  I wanted to p...</td>\n",
       "    </tr>\n",
       "    <tr>\n",
       "      <th>464586</th>\n",
       "      <td>535633</td>\n",
       "      <td>199084</td>\n",
       "      <td>2008-12-04</td>\n",
       "      <td>5</td>\n",
       "      <td>I made this for breakfast this am  and my Moth...</td>\n",
       "    </tr>\n",
       "    <tr>\n",
       "      <th>948792</th>\n",
       "      <td>289308</td>\n",
       "      <td>41541</td>\n",
       "      <td>2008-12-07</td>\n",
       "      <td>4</td>\n",
       "      <td>Tasty!  Did not get quite as candied (crunchy ...</td>\n",
       "    </tr>\n",
       "    <tr>\n",
       "      <th>756617</th>\n",
       "      <td>147027</td>\n",
       "      <td>167481</td>\n",
       "      <td>2009-07-27</td>\n",
       "      <td>5</td>\n",
       "      <td>I made this to use in recipe 167479 (Recipe St...</td>\n",
       "    </tr>\n",
       "    <tr>\n",
       "      <th>306696</th>\n",
       "      <td>2462794</td>\n",
       "      <td>360528</td>\n",
       "      <td>2014-03-12</td>\n",
       "      <td>5</td>\n",
       "      <td>I made this last night and it turned out very ...</td>\n",
       "    </tr>\n",
       "    <tr>\n",
       "      <th>890130</th>\n",
       "      <td>486718</td>\n",
       "      <td>177558</td>\n",
       "      <td>2009-10-05</td>\n",
       "      <td>5</td>\n",
       "      <td>Very easy and came out perfectly!! This is the...</td>\n",
       "    </tr>\n",
       "    <tr>\n",
       "      <th>806149</th>\n",
       "      <td>679759</td>\n",
       "      <td>292607</td>\n",
       "      <td>2009-01-05</td>\n",
       "      <td>4</td>\n",
       "      <td>This was a good recipe and the meat was very t...</td>\n",
       "    </tr>\n",
       "    <tr>\n",
       "      <th>321639</th>\n",
       "      <td>1396309</td>\n",
       "      <td>65911</td>\n",
       "      <td>2011-07-23</td>\n",
       "      <td>5</td>\n",
       "      <td>Really great! I was skeptical at the spices, b...</td>\n",
       "    </tr>\n",
       "  </tbody>\n",
       "</table>\n",
       "</div>"
      ],
      "text/plain": [
       "        user_id  recipe_id        date  rating  \\\n",
       "17205    280840      41020  2007-04-10       5   \n",
       "270955   157425     255324  2010-12-21       5   \n",
       "533110   192581     281825  2010-01-04       5   \n",
       "464586   535633     199084  2008-12-04       5   \n",
       "948792   289308      41541  2008-12-07       4   \n",
       "756617   147027     167481  2009-07-27       5   \n",
       "306696  2462794     360528  2014-03-12       5   \n",
       "890130   486718     177558  2009-10-05       5   \n",
       "806149   679759     292607  2009-01-05       4   \n",
       "321639  1396309      65911  2011-07-23       5   \n",
       "\n",
       "                                                   review  \n",
       "17205   This chili was absolutely outstanding! My chil...  \n",
       "270955  Took a cue from one of the other reveiwers and...  \n",
       "533110  Truly excellent mac and cheese.  I wanted to p...  \n",
       "464586  I made this for breakfast this am  and my Moth...  \n",
       "948792  Tasty!  Did not get quite as candied (crunchy ...  \n",
       "756617  I made this to use in recipe 167479 (Recipe St...  \n",
       "306696  I made this last night and it turned out very ...  \n",
       "890130  Very easy and came out perfectly!! This is the...  \n",
       "806149  This was a good recipe and the meat was very t...  \n",
       "321639  Really great! I was skeptical at the spices, b...  "
      ]
     },
     "execution_count": 5,
     "metadata": {},
     "output_type": "execute_result"
    }
   ],
   "source": [
    "df_rating.sample(10)"
   ]
  },
  {
   "cell_type": "markdown",
   "id": "1b19e99b",
   "metadata": {},
   "source": [
    "### Data preparation for Recommendation Analysis"
   ]
  },
  {
   "cell_type": "code",
   "execution_count": 7,
   "id": "609b0478",
   "metadata": {},
   "outputs": [
    {
     "name": "stdout",
     "output_type": "stream",
     "text": [
      "<class 'pandas.core.frame.DataFrame'>\n",
      "RangeIndex: 1132367 entries, 0 to 1132366\n",
      "Data columns (total 5 columns):\n",
      " #   Column     Non-Null Count    Dtype \n",
      "---  ------     --------------    ----- \n",
      " 0   user_id    1132367 non-null  int64 \n",
      " 1   recipe_id  1132367 non-null  int64 \n",
      " 2   date       1132367 non-null  object\n",
      " 3   rating     1132367 non-null  int64 \n",
      " 4   review     1132198 non-null  object\n",
      "dtypes: int64(3), object(2)\n",
      "memory usage: 43.2+ MB\n"
     ]
    }
   ],
   "source": [
    "# Checking the data types  present in the data dictionary\n",
    "\n",
    "df_rating.info()"
   ]
  },
  {
   "cell_type": "code",
   "execution_count": 8,
   "id": "fc3b224a",
   "metadata": {},
   "outputs": [
    {
     "data": {
      "text/plain": [
       "user_id        0\n",
       "recipe_id      0\n",
       "date           0\n",
       "rating         0\n",
       "review       169\n",
       "dtype: int64"
      ]
     },
     "execution_count": 8,
     "metadata": {},
     "output_type": "execute_result"
    }
   ],
   "source": [
    "# Check for missing values \n",
    "\n",
    "df_rating.isnull().sum()"
   ]
  },
  {
   "cell_type": "code",
   "execution_count": 9,
   "id": "80748808",
   "metadata": {},
   "outputs": [
    {
     "data": {
      "text/plain": [
       "0"
      ]
     },
     "execution_count": 9,
     "metadata": {},
     "output_type": "execute_result"
    }
   ],
   "source": [
    "# Checking for duplicates\n",
    "\n",
    "df_rating.duplicated().sum()"
   ]
  },
  {
   "cell_type": "code",
   "execution_count": 10,
   "id": "1127525a",
   "metadata": {},
   "outputs": [],
   "source": [
    "# We are going to drop review since we do not need it for the recommnendation purposes.\n",
    "\n",
    "df_rating = df_rating.drop(columns = ['review'])"
   ]
  },
  {
   "cell_type": "code",
   "execution_count": 11,
   "id": "ede1e561",
   "metadata": {},
   "outputs": [
    {
     "data": {
      "text/html": [
       "<div>\n",
       "<style scoped>\n",
       "    .dataframe tbody tr th:only-of-type {\n",
       "        vertical-align: middle;\n",
       "    }\n",
       "\n",
       "    .dataframe tbody tr th {\n",
       "        vertical-align: top;\n",
       "    }\n",
       "\n",
       "    .dataframe thead th {\n",
       "        text-align: right;\n",
       "    }\n",
       "</style>\n",
       "<table border=\"1\" class=\"dataframe\">\n",
       "  <thead>\n",
       "    <tr style=\"text-align: right;\">\n",
       "      <th></th>\n",
       "      <th>user_id</th>\n",
       "      <th>recipe_id</th>\n",
       "      <th>date</th>\n",
       "      <th>rating</th>\n",
       "    </tr>\n",
       "  </thead>\n",
       "  <tbody>\n",
       "    <tr>\n",
       "      <th>0</th>\n",
       "      <td>38094</td>\n",
       "      <td>40893</td>\n",
       "      <td>2003-02-17</td>\n",
       "      <td>4</td>\n",
       "    </tr>\n",
       "    <tr>\n",
       "      <th>1</th>\n",
       "      <td>1293707</td>\n",
       "      <td>40893</td>\n",
       "      <td>2011-12-21</td>\n",
       "      <td>5</td>\n",
       "    </tr>\n",
       "    <tr>\n",
       "      <th>2</th>\n",
       "      <td>8937</td>\n",
       "      <td>44394</td>\n",
       "      <td>2002-12-01</td>\n",
       "      <td>4</td>\n",
       "    </tr>\n",
       "    <tr>\n",
       "      <th>3</th>\n",
       "      <td>126440</td>\n",
       "      <td>85009</td>\n",
       "      <td>2010-02-27</td>\n",
       "      <td>5</td>\n",
       "    </tr>\n",
       "    <tr>\n",
       "      <th>4</th>\n",
       "      <td>57222</td>\n",
       "      <td>85009</td>\n",
       "      <td>2011-10-01</td>\n",
       "      <td>5</td>\n",
       "    </tr>\n",
       "  </tbody>\n",
       "</table>\n",
       "</div>"
      ],
      "text/plain": [
       "   user_id  recipe_id        date  rating\n",
       "0    38094      40893  2003-02-17       4\n",
       "1  1293707      40893  2011-12-21       5\n",
       "2     8937      44394  2002-12-01       4\n",
       "3   126440      85009  2010-02-27       5\n",
       "4    57222      85009  2011-10-01       5"
      ]
     },
     "execution_count": 11,
     "metadata": {},
     "output_type": "execute_result"
    }
   ],
   "source": [
    "# checking the new dataset \n",
    "\n",
    "df_rating.head()"
   ]
  },
  {
   "cell_type": "code",
   "execution_count": 12,
   "id": "5265cad4",
   "metadata": {},
   "outputs": [],
   "source": [
    "# I  will convert my date imto timestamp because it is in object. \n",
    "# Converting datetime values to timestamps can be beneficial but is not strictly necessary\n",
    "\n",
    "# Convert the `date` column to datetime\n",
    "df_rating['date'] = pd.to_datetime(df_rating['date'])\n",
    "\n",
    "# Convert the datetime column to a timestamp (seconds since epoch)\n",
    "df_rating['timestamp'] = df_rating['date'].astype('int64') // 10**9"
   ]
  },
  {
   "cell_type": "code",
   "execution_count": 13,
   "id": "16276013",
   "metadata": {},
   "outputs": [
    {
     "data": {
      "text/html": [
       "<div>\n",
       "<style scoped>\n",
       "    .dataframe tbody tr th:only-of-type {\n",
       "        vertical-align: middle;\n",
       "    }\n",
       "\n",
       "    .dataframe tbody tr th {\n",
       "        vertical-align: top;\n",
       "    }\n",
       "\n",
       "    .dataframe thead th {\n",
       "        text-align: right;\n",
       "    }\n",
       "</style>\n",
       "<table border=\"1\" class=\"dataframe\">\n",
       "  <thead>\n",
       "    <tr style=\"text-align: right;\">\n",
       "      <th></th>\n",
       "      <th>user_id</th>\n",
       "      <th>recipe_id</th>\n",
       "      <th>date</th>\n",
       "      <th>rating</th>\n",
       "      <th>timestamp</th>\n",
       "    </tr>\n",
       "  </thead>\n",
       "  <tbody>\n",
       "    <tr>\n",
       "      <th>0</th>\n",
       "      <td>38094</td>\n",
       "      <td>40893</td>\n",
       "      <td>2003-02-17</td>\n",
       "      <td>4</td>\n",
       "      <td>1045440000</td>\n",
       "    </tr>\n",
       "    <tr>\n",
       "      <th>1</th>\n",
       "      <td>1293707</td>\n",
       "      <td>40893</td>\n",
       "      <td>2011-12-21</td>\n",
       "      <td>5</td>\n",
       "      <td>1324425600</td>\n",
       "    </tr>\n",
       "    <tr>\n",
       "      <th>2</th>\n",
       "      <td>8937</td>\n",
       "      <td>44394</td>\n",
       "      <td>2002-12-01</td>\n",
       "      <td>4</td>\n",
       "      <td>1038700800</td>\n",
       "    </tr>\n",
       "    <tr>\n",
       "      <th>3</th>\n",
       "      <td>126440</td>\n",
       "      <td>85009</td>\n",
       "      <td>2010-02-27</td>\n",
       "      <td>5</td>\n",
       "      <td>1267228800</td>\n",
       "    </tr>\n",
       "    <tr>\n",
       "      <th>4</th>\n",
       "      <td>57222</td>\n",
       "      <td>85009</td>\n",
       "      <td>2011-10-01</td>\n",
       "      <td>5</td>\n",
       "      <td>1317427200</td>\n",
       "    </tr>\n",
       "  </tbody>\n",
       "</table>\n",
       "</div>"
      ],
      "text/plain": [
       "   user_id  recipe_id       date  rating   timestamp\n",
       "0    38094      40893 2003-02-17       4  1045440000\n",
       "1  1293707      40893 2011-12-21       5  1324425600\n",
       "2     8937      44394 2002-12-01       4  1038700800\n",
       "3   126440      85009 2010-02-27       5  1267228800\n",
       "4    57222      85009 2011-10-01       5  1317427200"
      ]
     },
     "execution_count": 13,
     "metadata": {},
     "output_type": "execute_result"
    }
   ],
   "source": [
    "# checking the dataset to view the changes\n",
    "\n",
    "df_rating.head()"
   ]
  },
  {
   "cell_type": "code",
   "execution_count": 14,
   "id": "0a3fab52",
   "metadata": {},
   "outputs": [
    {
     "name": "stdout",
     "output_type": "stream",
     "text": [
      "<class 'pandas.core.frame.DataFrame'>\n",
      "RangeIndex: 1132367 entries, 0 to 1132366\n",
      "Data columns (total 5 columns):\n",
      " #   Column     Non-Null Count    Dtype         \n",
      "---  ------     --------------    -----         \n",
      " 0   user_id    1132367 non-null  int64         \n",
      " 1   recipe_id  1132367 non-null  int64         \n",
      " 2   date       1132367 non-null  datetime64[ns]\n",
      " 3   rating     1132367 non-null  int64         \n",
      " 4   timestamp  1132367 non-null  int64         \n",
      "dtypes: datetime64[ns](1), int64(4)\n",
      "memory usage: 43.2 MB\n"
     ]
    }
   ],
   "source": [
    "df_rating.info()"
   ]
  },
  {
   "cell_type": "code",
   "execution_count": 15,
   "id": "df67ea5a",
   "metadata": {},
   "outputs": [],
   "source": [
    "# Drop the `date` column because we will continue with our timestamp for the recommendation system\n",
    "df_rating.drop(columns=['date'], inplace=True)"
   ]
  },
  {
   "cell_type": "code",
   "execution_count": 16,
   "id": "8632e391",
   "metadata": {},
   "outputs": [
    {
     "data": {
      "text/plain": [
       "user_id      0\n",
       "recipe_id    0\n",
       "rating       0\n",
       "timestamp    0\n",
       "dtype: int64"
      ]
     },
     "execution_count": 16,
     "metadata": {},
     "output_type": "execute_result"
    }
   ],
   "source": [
    "# now lets check our dataset to know it is ready for recommendation.\n",
    "# we will check for null again and info with the shape\n",
    "\n",
    "df_rating.isnull().sum()"
   ]
  },
  {
   "cell_type": "code",
   "execution_count": 17,
   "id": "5c601e49",
   "metadata": {},
   "outputs": [
    {
     "data": {
      "text/html": [
       "<div>\n",
       "<style scoped>\n",
       "    .dataframe tbody tr th:only-of-type {\n",
       "        vertical-align: middle;\n",
       "    }\n",
       "\n",
       "    .dataframe tbody tr th {\n",
       "        vertical-align: top;\n",
       "    }\n",
       "\n",
       "    .dataframe thead th {\n",
       "        text-align: right;\n",
       "    }\n",
       "</style>\n",
       "<table border=\"1\" class=\"dataframe\">\n",
       "  <thead>\n",
       "    <tr style=\"text-align: right;\">\n",
       "      <th></th>\n",
       "      <th>user_id</th>\n",
       "      <th>recipe_id</th>\n",
       "      <th>rating</th>\n",
       "      <th>timestamp</th>\n",
       "    </tr>\n",
       "  </thead>\n",
       "  <tbody>\n",
       "    <tr>\n",
       "      <th>0</th>\n",
       "      <td>38094</td>\n",
       "      <td>40893</td>\n",
       "      <td>4</td>\n",
       "      <td>1045440000</td>\n",
       "    </tr>\n",
       "    <tr>\n",
       "      <th>1</th>\n",
       "      <td>1293707</td>\n",
       "      <td>40893</td>\n",
       "      <td>5</td>\n",
       "      <td>1324425600</td>\n",
       "    </tr>\n",
       "    <tr>\n",
       "      <th>2</th>\n",
       "      <td>8937</td>\n",
       "      <td>44394</td>\n",
       "      <td>4</td>\n",
       "      <td>1038700800</td>\n",
       "    </tr>\n",
       "    <tr>\n",
       "      <th>3</th>\n",
       "      <td>126440</td>\n",
       "      <td>85009</td>\n",
       "      <td>5</td>\n",
       "      <td>1267228800</td>\n",
       "    </tr>\n",
       "    <tr>\n",
       "      <th>4</th>\n",
       "      <td>57222</td>\n",
       "      <td>85009</td>\n",
       "      <td>5</td>\n",
       "      <td>1317427200</td>\n",
       "    </tr>\n",
       "  </tbody>\n",
       "</table>\n",
       "</div>"
      ],
      "text/plain": [
       "   user_id  recipe_id  rating   timestamp\n",
       "0    38094      40893       4  1045440000\n",
       "1  1293707      40893       5  1324425600\n",
       "2     8937      44394       4  1038700800\n",
       "3   126440      85009       5  1267228800\n",
       "4    57222      85009       5  1317427200"
      ]
     },
     "execution_count": 17,
     "metadata": {},
     "output_type": "execute_result"
    }
   ],
   "source": [
    "# checking the dataset to view the changes\n",
    "\n",
    "df_rating.head()"
   ]
  },
  {
   "cell_type": "code",
   "execution_count": 18,
   "id": "585b7191",
   "metadata": {},
   "outputs": [
    {
     "data": {
      "text/plain": [
       "(1132367, 4)"
      ]
     },
     "execution_count": 18,
     "metadata": {},
     "output_type": "execute_result"
    }
   ],
   "source": [
    "df_rating.shape"
   ]
  },
  {
   "cell_type": "code",
   "execution_count": 20,
   "id": "d0828730",
   "metadata": {},
   "outputs": [
    {
     "data": {
      "text/html": [
       "<div>\n",
       "<style scoped>\n",
       "    .dataframe tbody tr th:only-of-type {\n",
       "        vertical-align: middle;\n",
       "    }\n",
       "\n",
       "    .dataframe tbody tr th {\n",
       "        vertical-align: top;\n",
       "    }\n",
       "\n",
       "    .dataframe thead th {\n",
       "        text-align: right;\n",
       "    }\n",
       "</style>\n",
       "<table border=\"1\" class=\"dataframe\">\n",
       "  <thead>\n",
       "    <tr style=\"text-align: right;\">\n",
       "      <th></th>\n",
       "      <th>user_id</th>\n",
       "      <th>rating</th>\n",
       "    </tr>\n",
       "  </thead>\n",
       "  <tbody>\n",
       "    <tr>\n",
       "      <th>0</th>\n",
       "      <td>1533</td>\n",
       "      <td>4.710938</td>\n",
       "    </tr>\n",
       "    <tr>\n",
       "      <th>1</th>\n",
       "      <td>1535</td>\n",
       "      <td>4.473552</td>\n",
       "    </tr>\n",
       "    <tr>\n",
       "      <th>2</th>\n",
       "      <td>1581</td>\n",
       "      <td>5.000000</td>\n",
       "    </tr>\n",
       "    <tr>\n",
       "      <th>3</th>\n",
       "      <td>1634</td>\n",
       "      <td>3.616667</td>\n",
       "    </tr>\n",
       "    <tr>\n",
       "      <th>4</th>\n",
       "      <td>1676</td>\n",
       "      <td>4.677419</td>\n",
       "    </tr>\n",
       "    <tr>\n",
       "      <th>...</th>\n",
       "      <td>...</td>\n",
       "      <td>...</td>\n",
       "    </tr>\n",
       "    <tr>\n",
       "      <th>226565</th>\n",
       "      <td>2002371755</td>\n",
       "      <td>5.000000</td>\n",
       "    </tr>\n",
       "    <tr>\n",
       "      <th>226566</th>\n",
       "      <td>2002371792</td>\n",
       "      <td>4.000000</td>\n",
       "    </tr>\n",
       "    <tr>\n",
       "      <th>226567</th>\n",
       "      <td>2002371843</td>\n",
       "      <td>5.000000</td>\n",
       "    </tr>\n",
       "    <tr>\n",
       "      <th>226568</th>\n",
       "      <td>2002372464</td>\n",
       "      <td>4.000000</td>\n",
       "    </tr>\n",
       "    <tr>\n",
       "      <th>226569</th>\n",
       "      <td>2002372706</td>\n",
       "      <td>5.000000</td>\n",
       "    </tr>\n",
       "  </tbody>\n",
       "</table>\n",
       "<p>226570 rows × 2 columns</p>\n",
       "</div>"
      ],
      "text/plain": [
       "           user_id    rating\n",
       "0             1533  4.710938\n",
       "1             1535  4.473552\n",
       "2             1581  5.000000\n",
       "3             1634  3.616667\n",
       "4             1676  4.677419\n",
       "...            ...       ...\n",
       "226565  2002371755  5.000000\n",
       "226566  2002371792  4.000000\n",
       "226567  2002371843  5.000000\n",
       "226568  2002372464  4.000000\n",
       "226569  2002372706  5.000000\n",
       "\n",
       "[226570 rows x 2 columns]"
      ]
     },
     "execution_count": 20,
     "metadata": {},
     "output_type": "execute_result"
    }
   ],
   "source": [
    "mean_rating = df_rating.groupby(by=\"user_id\", as_index=False)[\"rating\"].mean()\n",
    "\n",
    "mean_rating"
   ]
  },
  {
   "cell_type": "code",
   "execution_count": 35,
   "id": "aa5e2a64",
   "metadata": {},
   "outputs": [
    {
     "data": {
      "text/html": [
       "<div>\n",
       "<style scoped>\n",
       "    .dataframe tbody tr th:only-of-type {\n",
       "        vertical-align: middle;\n",
       "    }\n",
       "\n",
       "    .dataframe tbody tr th {\n",
       "        vertical-align: top;\n",
       "    }\n",
       "\n",
       "    .dataframe thead th {\n",
       "        text-align: right;\n",
       "    }\n",
       "</style>\n",
       "<table border=\"1\" class=\"dataframe\">\n",
       "  <thead>\n",
       "    <tr style=\"text-align: right;\">\n",
       "      <th></th>\n",
       "      <th>user_id</th>\n",
       "      <th>recipe_id</th>\n",
       "      <th>rating</th>\n",
       "      <th>timestamp</th>\n",
       "      <th>rating_mean</th>\n",
       "    </tr>\n",
       "  </thead>\n",
       "  <tbody>\n",
       "    <tr>\n",
       "      <th>0</th>\n",
       "      <td>38094</td>\n",
       "      <td>40893</td>\n",
       "      <td>4</td>\n",
       "      <td>1045440000</td>\n",
       "      <td>4.828571</td>\n",
       "    </tr>\n",
       "    <tr>\n",
       "      <th>1</th>\n",
       "      <td>38094</td>\n",
       "      <td>16954</td>\n",
       "      <td>5</td>\n",
       "      <td>1023667200</td>\n",
       "      <td>4.828571</td>\n",
       "    </tr>\n",
       "    <tr>\n",
       "      <th>2</th>\n",
       "      <td>38094</td>\n",
       "      <td>40753</td>\n",
       "      <td>5</td>\n",
       "      <td>1070841600</td>\n",
       "      <td>4.828571</td>\n",
       "    </tr>\n",
       "    <tr>\n",
       "      <th>3</th>\n",
       "      <td>38094</td>\n",
       "      <td>34513</td>\n",
       "      <td>5</td>\n",
       "      <td>1026950400</td>\n",
       "      <td>4.828571</td>\n",
       "    </tr>\n",
       "    <tr>\n",
       "      <th>4</th>\n",
       "      <td>38094</td>\n",
       "      <td>69545</td>\n",
       "      <td>5</td>\n",
       "      <td>1062374400</td>\n",
       "      <td>4.828571</td>\n",
       "    </tr>\n",
       "  </tbody>\n",
       "</table>\n",
       "</div>"
      ],
      "text/plain": [
       "   user_id  recipe_id  rating   timestamp  rating_mean\n",
       "0    38094      40893       4  1045440000     4.828571\n",
       "1    38094      16954       5  1023667200     4.828571\n",
       "2    38094      40753       5  1070841600     4.828571\n",
       "3    38094      34513       5  1026950400     4.828571\n",
       "4    38094      69545       5  1062374400     4.828571"
      ]
     },
     "execution_count": 35,
     "metadata": {},
     "output_type": "execute_result"
    }
   ],
   "source": [
    "df_rate = pd.merge(df_rating, mean_rating, on=\"user_id\", suffixes=(None, \"_mean\"))\n",
    "\n",
    "df_rate.head()"
   ]
  },
  {
   "cell_type": "code",
   "execution_count": 36,
   "id": "bc1bcceb",
   "metadata": {},
   "outputs": [],
   "source": [
    "df_rate[\"rating_diff\"] = df_rate[\"rating\"] - df_rate[\"rating_mean\"]"
   ]
  },
  {
   "cell_type": "code",
   "execution_count": 37,
   "id": "6a9b22c1",
   "metadata": {},
   "outputs": [],
   "source": [
    "df_rate2 = df_rate.iloc[:df_rate.shape[0]//10]"
   ]
  },
  {
   "cell_type": "code",
   "execution_count": 38,
   "id": "8e34329d",
   "metadata": {},
   "outputs": [
    {
     "data": {
      "text/plain": [
       "12822391696"
      ]
     },
     "execution_count": 38,
     "metadata": {},
     "output_type": "execute_result"
    }
   ],
   "source": [
    "df_rate2.shape[0]**2"
   ]
  },
  {
   "cell_type": "code",
   "execution_count": 39,
   "id": "1b05dda1",
   "metadata": {},
   "outputs": [],
   "source": [
    "pivot_df = pd.pivot_table(df_rate2, values=\"rating_diff\", index=\"user_id\", columns=\"recipe_id\")"
   ]
  },
  {
   "cell_type": "code",
   "execution_count": 40,
   "id": "4329ec9d",
   "metadata": {},
   "outputs": [
    {
     "data": {
      "text/html": [
       "<div>\n",
       "<style scoped>\n",
       "    .dataframe tbody tr th:only-of-type {\n",
       "        vertical-align: middle;\n",
       "    }\n",
       "\n",
       "    .dataframe tbody tr th {\n",
       "        vertical-align: top;\n",
       "    }\n",
       "\n",
       "    .dataframe thead th {\n",
       "        text-align: right;\n",
       "    }\n",
       "</style>\n",
       "<table border=\"1\" class=\"dataframe\">\n",
       "  <thead>\n",
       "    <tr style=\"text-align: right;\">\n",
       "      <th>recipe_id</th>\n",
       "      <th>40</th>\n",
       "      <th>49</th>\n",
       "      <th>52</th>\n",
       "      <th>58</th>\n",
       "      <th>66</th>\n",
       "      <th>70</th>\n",
       "      <th>91</th>\n",
       "      <th>93</th>\n",
       "      <th>114</th>\n",
       "      <th>119</th>\n",
       "      <th>...</th>\n",
       "      <th>536382</th>\n",
       "      <th>536384</th>\n",
       "      <th>536678</th>\n",
       "      <th>536726</th>\n",
       "      <th>536734</th>\n",
       "      <th>537071</th>\n",
       "      <th>537073</th>\n",
       "      <th>537241</th>\n",
       "      <th>537458</th>\n",
       "      <th>537459</th>\n",
       "    </tr>\n",
       "    <tr>\n",
       "      <th>user_id</th>\n",
       "      <th></th>\n",
       "      <th></th>\n",
       "      <th></th>\n",
       "      <th></th>\n",
       "      <th></th>\n",
       "      <th></th>\n",
       "      <th></th>\n",
       "      <th></th>\n",
       "      <th></th>\n",
       "      <th></th>\n",
       "      <th></th>\n",
       "      <th></th>\n",
       "      <th></th>\n",
       "      <th></th>\n",
       "      <th></th>\n",
       "      <th></th>\n",
       "      <th></th>\n",
       "      <th></th>\n",
       "      <th></th>\n",
       "      <th></th>\n",
       "      <th></th>\n",
       "    </tr>\n",
       "  </thead>\n",
       "  <tbody>\n",
       "    <tr>\n",
       "      <th>4470</th>\n",
       "      <td>NaN</td>\n",
       "      <td>NaN</td>\n",
       "      <td>NaN</td>\n",
       "      <td>NaN</td>\n",
       "      <td>NaN</td>\n",
       "      <td>NaN</td>\n",
       "      <td>NaN</td>\n",
       "      <td>NaN</td>\n",
       "      <td>NaN</td>\n",
       "      <td>NaN</td>\n",
       "      <td>...</td>\n",
       "      <td>NaN</td>\n",
       "      <td>NaN</td>\n",
       "      <td>NaN</td>\n",
       "      <td>NaN</td>\n",
       "      <td>NaN</td>\n",
       "      <td>NaN</td>\n",
       "      <td>NaN</td>\n",
       "      <td>NaN</td>\n",
       "      <td>NaN</td>\n",
       "      <td>NaN</td>\n",
       "    </tr>\n",
       "    <tr>\n",
       "      <th>5060</th>\n",
       "      <td>NaN</td>\n",
       "      <td>NaN</td>\n",
       "      <td>NaN</td>\n",
       "      <td>0.313613</td>\n",
       "      <td>NaN</td>\n",
       "      <td>NaN</td>\n",
       "      <td>NaN</td>\n",
       "      <td>NaN</td>\n",
       "      <td>NaN</td>\n",
       "      <td>NaN</td>\n",
       "      <td>...</td>\n",
       "      <td>NaN</td>\n",
       "      <td>NaN</td>\n",
       "      <td>NaN</td>\n",
       "      <td>NaN</td>\n",
       "      <td>NaN</td>\n",
       "      <td>NaN</td>\n",
       "      <td>NaN</td>\n",
       "      <td>NaN</td>\n",
       "      <td>NaN</td>\n",
       "      <td>NaN</td>\n",
       "    </tr>\n",
       "    <tr>\n",
       "      <th>6258</th>\n",
       "      <td>NaN</td>\n",
       "      <td>NaN</td>\n",
       "      <td>NaN</td>\n",
       "      <td>NaN</td>\n",
       "      <td>NaN</td>\n",
       "      <td>NaN</td>\n",
       "      <td>NaN</td>\n",
       "      <td>NaN</td>\n",
       "      <td>NaN</td>\n",
       "      <td>NaN</td>\n",
       "      <td>...</td>\n",
       "      <td>NaN</td>\n",
       "      <td>NaN</td>\n",
       "      <td>NaN</td>\n",
       "      <td>NaN</td>\n",
       "      <td>NaN</td>\n",
       "      <td>NaN</td>\n",
       "      <td>NaN</td>\n",
       "      <td>NaN</td>\n",
       "      <td>NaN</td>\n",
       "      <td>NaN</td>\n",
       "    </tr>\n",
       "    <tr>\n",
       "      <th>8688</th>\n",
       "      <td>NaN</td>\n",
       "      <td>NaN</td>\n",
       "      <td>NaN</td>\n",
       "      <td>NaN</td>\n",
       "      <td>NaN</td>\n",
       "      <td>NaN</td>\n",
       "      <td>NaN</td>\n",
       "      <td>NaN</td>\n",
       "      <td>NaN</td>\n",
       "      <td>NaN</td>\n",
       "      <td>...</td>\n",
       "      <td>NaN</td>\n",
       "      <td>NaN</td>\n",
       "      <td>NaN</td>\n",
       "      <td>NaN</td>\n",
       "      <td>NaN</td>\n",
       "      <td>NaN</td>\n",
       "      <td>NaN</td>\n",
       "      <td>NaN</td>\n",
       "      <td>NaN</td>\n",
       "      <td>NaN</td>\n",
       "    </tr>\n",
       "    <tr>\n",
       "      <th>8937</th>\n",
       "      <td>NaN</td>\n",
       "      <td>NaN</td>\n",
       "      <td>NaN</td>\n",
       "      <td>NaN</td>\n",
       "      <td>NaN</td>\n",
       "      <td>NaN</td>\n",
       "      <td>NaN</td>\n",
       "      <td>NaN</td>\n",
       "      <td>NaN</td>\n",
       "      <td>NaN</td>\n",
       "      <td>...</td>\n",
       "      <td>NaN</td>\n",
       "      <td>NaN</td>\n",
       "      <td>NaN</td>\n",
       "      <td>NaN</td>\n",
       "      <td>NaN</td>\n",
       "      <td>NaN</td>\n",
       "      <td>NaN</td>\n",
       "      <td>NaN</td>\n",
       "      <td>NaN</td>\n",
       "      <td>NaN</td>\n",
       "    </tr>\n",
       "  </tbody>\n",
       "</table>\n",
       "<p>5 rows × 74406 columns</p>\n",
       "</div>"
      ],
      "text/plain": [
       "recipe_id  40      49      52        58      66      70      91      93      \\\n",
       "user_id                                                                       \n",
       "4470          NaN     NaN     NaN       NaN     NaN     NaN     NaN     NaN   \n",
       "5060          NaN     NaN     NaN  0.313613     NaN     NaN     NaN     NaN   \n",
       "6258          NaN     NaN     NaN       NaN     NaN     NaN     NaN     NaN   \n",
       "8688          NaN     NaN     NaN       NaN     NaN     NaN     NaN     NaN   \n",
       "8937          NaN     NaN     NaN       NaN     NaN     NaN     NaN     NaN   \n",
       "\n",
       "recipe_id  114     119     ...  536382  536384  536678  536726  536734  \\\n",
       "user_id                    ...                                           \n",
       "4470          NaN     NaN  ...     NaN     NaN     NaN     NaN     NaN   \n",
       "5060          NaN     NaN  ...     NaN     NaN     NaN     NaN     NaN   \n",
       "6258          NaN     NaN  ...     NaN     NaN     NaN     NaN     NaN   \n",
       "8688          NaN     NaN  ...     NaN     NaN     NaN     NaN     NaN   \n",
       "8937          NaN     NaN  ...     NaN     NaN     NaN     NaN     NaN   \n",
       "\n",
       "recipe_id  537071  537073  537241  537458  537459  \n",
       "user_id                                            \n",
       "4470          NaN     NaN     NaN     NaN     NaN  \n",
       "5060          NaN     NaN     NaN     NaN     NaN  \n",
       "6258          NaN     NaN     NaN     NaN     NaN  \n",
       "8688          NaN     NaN     NaN     NaN     NaN  \n",
       "8937          NaN     NaN     NaN     NaN     NaN  \n",
       "\n",
       "[5 rows x 74406 columns]"
      ]
     },
     "execution_count": 40,
     "metadata": {},
     "output_type": "execute_result"
    }
   ],
   "source": [
    "pivot_df.head()"
   ]
  },
  {
   "cell_type": "code",
   "execution_count": 42,
   "id": "925dbb0b",
   "metadata": {},
   "outputs": [
    {
     "ename": "KeyboardInterrupt",
     "evalue": "",
     "output_type": "error",
     "traceback": [
      "\u001b[1;31m---------------------------------------------------------------------------\u001b[0m",
      "\u001b[1;31mKeyboardInterrupt\u001b[0m                         Traceback (most recent call last)",
      "Cell \u001b[1;32mIn[42], line 1\u001b[0m\n\u001b[1;32m----> 1\u001b[0m recipe_df \u001b[38;5;241m=\u001b[39m pivot_df\u001b[38;5;241m.\u001b[39mfillna(pivot_df\u001b[38;5;241m.\u001b[39mmean(axis\u001b[38;5;241m=\u001b[39m\u001b[38;5;241m0\u001b[39m))\n",
      "File \u001b[1;32mC:\\ProgramData\\anaconda3\\Lib\\site-packages\\pandas\\util\\_decorators.py:331\u001b[0m, in \u001b[0;36mdeprecate_nonkeyword_arguments.<locals>.decorate.<locals>.wrapper\u001b[1;34m(*args, **kwargs)\u001b[0m\n\u001b[0;32m    325\u001b[0m \u001b[38;5;28;01mif\u001b[39;00m \u001b[38;5;28mlen\u001b[39m(args) \u001b[38;5;241m>\u001b[39m num_allow_args:\n\u001b[0;32m    326\u001b[0m     warnings\u001b[38;5;241m.\u001b[39mwarn(\n\u001b[0;32m    327\u001b[0m         msg\u001b[38;5;241m.\u001b[39mformat(arguments\u001b[38;5;241m=\u001b[39m_format_argument_list(allow_args)),\n\u001b[0;32m    328\u001b[0m         \u001b[38;5;167;01mFutureWarning\u001b[39;00m,\n\u001b[0;32m    329\u001b[0m         stacklevel\u001b[38;5;241m=\u001b[39mfind_stack_level(),\n\u001b[0;32m    330\u001b[0m     )\n\u001b[1;32m--> 331\u001b[0m \u001b[38;5;28;01mreturn\u001b[39;00m func(\u001b[38;5;241m*\u001b[39margs, \u001b[38;5;241m*\u001b[39m\u001b[38;5;241m*\u001b[39mkwargs)\n",
      "File \u001b[1;32mC:\\ProgramData\\anaconda3\\Lib\\site-packages\\pandas\\core\\frame.py:5635\u001b[0m, in \u001b[0;36mDataFrame.fillna\u001b[1;34m(self, value, method, axis, inplace, limit, downcast)\u001b[0m\n\u001b[0;32m   5624\u001b[0m \u001b[38;5;129m@deprecate_nonkeyword_arguments\u001b[39m(version\u001b[38;5;241m=\u001b[39m\u001b[38;5;28;01mNone\u001b[39;00m, allowed_args\u001b[38;5;241m=\u001b[39m[\u001b[38;5;124m\"\u001b[39m\u001b[38;5;124mself\u001b[39m\u001b[38;5;124m\"\u001b[39m, \u001b[38;5;124m\"\u001b[39m\u001b[38;5;124mvalue\u001b[39m\u001b[38;5;124m\"\u001b[39m])\n\u001b[0;32m   5625\u001b[0m \u001b[38;5;129m@doc\u001b[39m(NDFrame\u001b[38;5;241m.\u001b[39mfillna, \u001b[38;5;241m*\u001b[39m\u001b[38;5;241m*\u001b[39m_shared_doc_kwargs)\n\u001b[0;32m   5626\u001b[0m \u001b[38;5;28;01mdef\u001b[39;00m \u001b[38;5;21mfillna\u001b[39m(  \u001b[38;5;66;03m# type: ignore[override]\u001b[39;00m\n\u001b[1;32m   (...)\u001b[0m\n\u001b[0;32m   5633\u001b[0m     downcast: \u001b[38;5;28mdict\u001b[39m \u001b[38;5;241m|\u001b[39m \u001b[38;5;28;01mNone\u001b[39;00m \u001b[38;5;241m=\u001b[39m \u001b[38;5;28;01mNone\u001b[39;00m,\n\u001b[0;32m   5634\u001b[0m ) \u001b[38;5;241m-\u001b[39m\u001b[38;5;241m>\u001b[39m DataFrame \u001b[38;5;241m|\u001b[39m \u001b[38;5;28;01mNone\u001b[39;00m:\n\u001b[1;32m-> 5635\u001b[0m     \u001b[38;5;28;01mreturn\u001b[39;00m \u001b[38;5;28msuper\u001b[39m()\u001b[38;5;241m.\u001b[39mfillna(\n\u001b[0;32m   5636\u001b[0m         value\u001b[38;5;241m=\u001b[39mvalue,\n\u001b[0;32m   5637\u001b[0m         method\u001b[38;5;241m=\u001b[39mmethod,\n\u001b[0;32m   5638\u001b[0m         axis\u001b[38;5;241m=\u001b[39maxis,\n\u001b[0;32m   5639\u001b[0m         inplace\u001b[38;5;241m=\u001b[39minplace,\n\u001b[0;32m   5640\u001b[0m         limit\u001b[38;5;241m=\u001b[39mlimit,\n\u001b[0;32m   5641\u001b[0m         downcast\u001b[38;5;241m=\u001b[39mdowncast,\n\u001b[0;32m   5642\u001b[0m     )\n",
      "File \u001b[1;32mC:\\ProgramData\\anaconda3\\Lib\\site-packages\\pandas\\core\\generic.py:6871\u001b[0m, in \u001b[0;36mNDFrame.fillna\u001b[1;34m(self, value, method, axis, inplace, limit, downcast)\u001b[0m\n\u001b[0;32m   6868\u001b[0m res_k \u001b[38;5;241m=\u001b[39m result[k]\u001b[38;5;241m.\u001b[39mfillna(v, limit\u001b[38;5;241m=\u001b[39mlimit, downcast\u001b[38;5;241m=\u001b[39mdowncast_k)\n\u001b[0;32m   6870\u001b[0m \u001b[38;5;28;01mif\u001b[39;00m \u001b[38;5;129;01mnot\u001b[39;00m inplace:\n\u001b[1;32m-> 6871\u001b[0m     result[k] \u001b[38;5;241m=\u001b[39m res_k\n\u001b[0;32m   6872\u001b[0m \u001b[38;5;28;01melse\u001b[39;00m:\n\u001b[0;32m   6873\u001b[0m     \u001b[38;5;66;03m# We can write into our existing column(s) iff dtype\u001b[39;00m\n\u001b[0;32m   6874\u001b[0m     \u001b[38;5;66;03m#  was preserved.\u001b[39;00m\n\u001b[0;32m   6875\u001b[0m     \u001b[38;5;28;01mif\u001b[39;00m \u001b[38;5;28misinstance\u001b[39m(res_k, ABCSeries):\n\u001b[0;32m   6876\u001b[0m         \u001b[38;5;66;03m# i.e. 'k' only shows up once in self.columns\u001b[39;00m\n",
      "File \u001b[1;32mC:\\ProgramData\\anaconda3\\Lib\\site-packages\\pandas\\core\\frame.py:3980\u001b[0m, in \u001b[0;36mDataFrame.__setitem__\u001b[1;34m(self, key, value)\u001b[0m\n\u001b[0;32m   3977\u001b[0m     \u001b[38;5;28mself\u001b[39m\u001b[38;5;241m.\u001b[39m_setitem_array([key], value)\n\u001b[0;32m   3978\u001b[0m \u001b[38;5;28;01melse\u001b[39;00m:\n\u001b[0;32m   3979\u001b[0m     \u001b[38;5;66;03m# set column\u001b[39;00m\n\u001b[1;32m-> 3980\u001b[0m     \u001b[38;5;28mself\u001b[39m\u001b[38;5;241m.\u001b[39m_set_item(key, value)\n",
      "File \u001b[1;32mC:\\ProgramData\\anaconda3\\Lib\\site-packages\\pandas\\core\\frame.py:4187\u001b[0m, in \u001b[0;36mDataFrame._set_item\u001b[1;34m(self, key, value)\u001b[0m\n\u001b[0;32m   4184\u001b[0m         \u001b[38;5;28;01mif\u001b[39;00m \u001b[38;5;28misinstance\u001b[39m(existing_piece, DataFrame):\n\u001b[0;32m   4185\u001b[0m             value \u001b[38;5;241m=\u001b[39m np\u001b[38;5;241m.\u001b[39mtile(value, (\u001b[38;5;28mlen\u001b[39m(existing_piece\u001b[38;5;241m.\u001b[39mcolumns), \u001b[38;5;241m1\u001b[39m))\u001b[38;5;241m.\u001b[39mT\n\u001b[1;32m-> 4187\u001b[0m \u001b[38;5;28mself\u001b[39m\u001b[38;5;241m.\u001b[39m_set_item_mgr(key, value)\n",
      "File \u001b[1;32mC:\\ProgramData\\anaconda3\\Lib\\site-packages\\pandas\\core\\frame.py:4146\u001b[0m, in \u001b[0;36mDataFrame._set_item_mgr\u001b[1;34m(self, key, value)\u001b[0m\n\u001b[0;32m   4144\u001b[0m     \u001b[38;5;28mself\u001b[39m\u001b[38;5;241m.\u001b[39m_mgr\u001b[38;5;241m.\u001b[39minsert(\u001b[38;5;28mlen\u001b[39m(\u001b[38;5;28mself\u001b[39m\u001b[38;5;241m.\u001b[39m_info_axis), key, value)\n\u001b[0;32m   4145\u001b[0m \u001b[38;5;28;01melse\u001b[39;00m:\n\u001b[1;32m-> 4146\u001b[0m     \u001b[38;5;28mself\u001b[39m\u001b[38;5;241m.\u001b[39m_iset_item_mgr(loc, value)\n\u001b[0;32m   4148\u001b[0m \u001b[38;5;66;03m# check if we are modifying a copy\u001b[39;00m\n\u001b[0;32m   4149\u001b[0m \u001b[38;5;66;03m# try to set first as we want an invalid\u001b[39;00m\n\u001b[0;32m   4150\u001b[0m \u001b[38;5;66;03m# value exception to occur first\u001b[39;00m\n\u001b[0;32m   4151\u001b[0m \u001b[38;5;28;01mif\u001b[39;00m \u001b[38;5;28mlen\u001b[39m(\u001b[38;5;28mself\u001b[39m):\n",
      "File \u001b[1;32mC:\\ProgramData\\anaconda3\\Lib\\site-packages\\pandas\\core\\frame.py:4136\u001b[0m, in \u001b[0;36mDataFrame._iset_item_mgr\u001b[1;34m(self, loc, value, inplace)\u001b[0m\n\u001b[0;32m   4132\u001b[0m \u001b[38;5;28;01mdef\u001b[39;00m \u001b[38;5;21m_iset_item_mgr\u001b[39m(\n\u001b[0;32m   4133\u001b[0m     \u001b[38;5;28mself\u001b[39m, loc: \u001b[38;5;28mint\u001b[39m \u001b[38;5;241m|\u001b[39m \u001b[38;5;28mslice\u001b[39m \u001b[38;5;241m|\u001b[39m np\u001b[38;5;241m.\u001b[39mndarray, value, inplace: \u001b[38;5;28mbool\u001b[39m \u001b[38;5;241m=\u001b[39m \u001b[38;5;28;01mFalse\u001b[39;00m\n\u001b[0;32m   4134\u001b[0m ) \u001b[38;5;241m-\u001b[39m\u001b[38;5;241m>\u001b[39m \u001b[38;5;28;01mNone\u001b[39;00m:\n\u001b[0;32m   4135\u001b[0m     \u001b[38;5;66;03m# when called from _set_item_mgr loc can be anything returned from get_loc\u001b[39;00m\n\u001b[1;32m-> 4136\u001b[0m     \u001b[38;5;28mself\u001b[39m\u001b[38;5;241m.\u001b[39m_mgr\u001b[38;5;241m.\u001b[39miset(loc, value, inplace\u001b[38;5;241m=\u001b[39minplace)\n\u001b[0;32m   4137\u001b[0m     \u001b[38;5;28mself\u001b[39m\u001b[38;5;241m.\u001b[39m_clear_item_cache()\n",
      "File \u001b[1;32mC:\\ProgramData\\anaconda3\\Lib\\site-packages\\pandas\\core\\internals\\managers.py:1268\u001b[0m, in \u001b[0;36mBlockManager.iset\u001b[1;34m(self, loc, value, inplace)\u001b[0m\n\u001b[0;32m   1266\u001b[0m     removed_blknos\u001b[38;5;241m.\u001b[39mappend(blkno_l)\n\u001b[0;32m   1267\u001b[0m \u001b[38;5;28;01melse\u001b[39;00m:\n\u001b[1;32m-> 1268\u001b[0m     nb \u001b[38;5;241m=\u001b[39m blk\u001b[38;5;241m.\u001b[39mdelete(blk_locs)\n\u001b[0;32m   1269\u001b[0m     blocks_tup \u001b[38;5;241m=\u001b[39m (\n\u001b[0;32m   1270\u001b[0m         \u001b[38;5;28mself\u001b[39m\u001b[38;5;241m.\u001b[39mblocks[:blkno_l] \u001b[38;5;241m+\u001b[39m (nb,) \u001b[38;5;241m+\u001b[39m \u001b[38;5;28mself\u001b[39m\u001b[38;5;241m.\u001b[39mblocks[blkno_l \u001b[38;5;241m+\u001b[39m \u001b[38;5;241m1\u001b[39m :]\n\u001b[0;32m   1271\u001b[0m     )\n\u001b[0;32m   1272\u001b[0m     \u001b[38;5;28mself\u001b[39m\u001b[38;5;241m.\u001b[39mblocks \u001b[38;5;241m=\u001b[39m blocks_tup\n",
      "File \u001b[1;32mC:\\ProgramData\\anaconda3\\Lib\\site-packages\\pandas\\core\\internals\\blocks.py:1921\u001b[0m, in \u001b[0;36mNumpyBlock.delete\u001b[1;34m(self, loc)\u001b[0m\n\u001b[0;32m   1920\u001b[0m \u001b[38;5;28;01mdef\u001b[39;00m \u001b[38;5;21mdelete\u001b[39m(\u001b[38;5;28mself\u001b[39m, loc) \u001b[38;5;241m-\u001b[39m\u001b[38;5;241m>\u001b[39m Block:\n\u001b[1;32m-> 1921\u001b[0m     values \u001b[38;5;241m=\u001b[39m np\u001b[38;5;241m.\u001b[39mdelete(\u001b[38;5;28mself\u001b[39m\u001b[38;5;241m.\u001b[39mvalues, loc, \u001b[38;5;241m0\u001b[39m)\n\u001b[0;32m   1922\u001b[0m     mgr_locs \u001b[38;5;241m=\u001b[39m \u001b[38;5;28mself\u001b[39m\u001b[38;5;241m.\u001b[39m_mgr_locs\u001b[38;5;241m.\u001b[39mdelete(loc)\n\u001b[0;32m   1923\u001b[0m     \u001b[38;5;28;01mreturn\u001b[39;00m \u001b[38;5;28mtype\u001b[39m(\u001b[38;5;28mself\u001b[39m)(values, placement\u001b[38;5;241m=\u001b[39mmgr_locs, ndim\u001b[38;5;241m=\u001b[39m\u001b[38;5;28mself\u001b[39m\u001b[38;5;241m.\u001b[39mndim)\n",
      "File \u001b[1;32m<__array_function__ internals>:200\u001b[0m, in \u001b[0;36mdelete\u001b[1;34m(*args, **kwargs)\u001b[0m\n",
      "\u001b[1;31mKeyboardInterrupt\u001b[0m: "
     ]
    }
   ],
   "source": [
    "recipe_df = pivot_df.fillna(pivot_df.mean(axis=0))"
   ]
  },
  {
   "cell_type": "code",
   "execution_count": null,
   "id": "30ad7b46",
   "metadata": {},
   "outputs": [],
   "source": [
    "user_df = pivot_df.apply(lambda row: row.fillna(row.mean()), axis=1)"
   ]
  },
  {
   "cell_type": "code",
   "execution_count": null,
   "id": "b16b6716",
   "metadata": {},
   "outputs": [],
   "source": []
  },
  {
   "cell_type": "code",
   "execution_count": null,
   "id": "f801c375",
   "metadata": {},
   "outputs": [],
   "source": []
  },
  {
   "cell_type": "code",
   "execution_count": 59,
   "id": "551e7f78",
   "metadata": {},
   "outputs": [],
   "source": [
    "# loading libraries for Data visualization and Time series\n",
    "\n",
    "# Importing the Panda DataFrame libraries\n",
    "\n",
    "import warnings\n",
    "warnings.filterwarnings('ignore')\n",
    "import os, sys\n",
    "import numpy as np\n",
    "from scipy.stats import zscore \n",
    "import pandas as pd\n",
    "import matplotlib.pyplot as plt\n",
    "import matplotlib.dates as mdates\n",
    "from datetime import datetime \n",
    "import seaborn as sns\n",
    "from scipy import stats\n",
    "sns.set()"
   ]
  },
  {
   "cell_type": "code",
   "execution_count": 44,
   "id": "c51c5afd",
   "metadata": {},
   "outputs": [],
   "source": [
    "# Loading data into the DataFrame and view the first five rows to know what the dataset looks like\n",
    "\n",
    "df_sales = pd.read_csv(\"train.csv\")"
   ]
  },
  {
   "cell_type": "code",
   "execution_count": 45,
   "id": "da7e8e8e",
   "metadata": {},
   "outputs": [
    {
     "data": {
      "text/html": [
       "<div>\n",
       "<style scoped>\n",
       "    .dataframe tbody tr th:only-of-type {\n",
       "        vertical-align: middle;\n",
       "    }\n",
       "\n",
       "    .dataframe tbody tr th {\n",
       "        vertical-align: top;\n",
       "    }\n",
       "\n",
       "    .dataframe thead th {\n",
       "        text-align: right;\n",
       "    }\n",
       "</style>\n",
       "<table border=\"1\" class=\"dataframe\">\n",
       "  <thead>\n",
       "    <tr style=\"text-align: right;\">\n",
       "      <th></th>\n",
       "      <th>Row ID</th>\n",
       "      <th>Order ID</th>\n",
       "      <th>Order Date</th>\n",
       "      <th>Ship Date</th>\n",
       "      <th>Ship Mode</th>\n",
       "      <th>Customer ID</th>\n",
       "      <th>Customer Name</th>\n",
       "      <th>Segment</th>\n",
       "      <th>Country</th>\n",
       "      <th>City</th>\n",
       "      <th>State</th>\n",
       "      <th>Postal Code</th>\n",
       "      <th>Region</th>\n",
       "      <th>Product ID</th>\n",
       "      <th>Category</th>\n",
       "      <th>Sub-Category</th>\n",
       "      <th>Product Name</th>\n",
       "      <th>Sales</th>\n",
       "    </tr>\n",
       "  </thead>\n",
       "  <tbody>\n",
       "    <tr>\n",
       "      <th>0</th>\n",
       "      <td>1</td>\n",
       "      <td>CA-2017-152156</td>\n",
       "      <td>08/11/2017</td>\n",
       "      <td>11/11/2017</td>\n",
       "      <td>Second Class</td>\n",
       "      <td>CG-12520</td>\n",
       "      <td>Claire Gute</td>\n",
       "      <td>Consumer</td>\n",
       "      <td>United States</td>\n",
       "      <td>Henderson</td>\n",
       "      <td>Kentucky</td>\n",
       "      <td>42420.0</td>\n",
       "      <td>South</td>\n",
       "      <td>FUR-BO-10001798</td>\n",
       "      <td>Furniture</td>\n",
       "      <td>Bookcases</td>\n",
       "      <td>Bush Somerset Collection Bookcase</td>\n",
       "      <td>261.9600</td>\n",
       "    </tr>\n",
       "    <tr>\n",
       "      <th>1</th>\n",
       "      <td>2</td>\n",
       "      <td>CA-2017-152156</td>\n",
       "      <td>08/11/2017</td>\n",
       "      <td>11/11/2017</td>\n",
       "      <td>Second Class</td>\n",
       "      <td>CG-12520</td>\n",
       "      <td>Claire Gute</td>\n",
       "      <td>Consumer</td>\n",
       "      <td>United States</td>\n",
       "      <td>Henderson</td>\n",
       "      <td>Kentucky</td>\n",
       "      <td>42420.0</td>\n",
       "      <td>South</td>\n",
       "      <td>FUR-CH-10000454</td>\n",
       "      <td>Furniture</td>\n",
       "      <td>Chairs</td>\n",
       "      <td>Hon Deluxe Fabric Upholstered Stacking Chairs,...</td>\n",
       "      <td>731.9400</td>\n",
       "    </tr>\n",
       "    <tr>\n",
       "      <th>2</th>\n",
       "      <td>3</td>\n",
       "      <td>CA-2017-138688</td>\n",
       "      <td>12/06/2017</td>\n",
       "      <td>16/06/2017</td>\n",
       "      <td>Second Class</td>\n",
       "      <td>DV-13045</td>\n",
       "      <td>Darrin Van Huff</td>\n",
       "      <td>Corporate</td>\n",
       "      <td>United States</td>\n",
       "      <td>Los Angeles</td>\n",
       "      <td>California</td>\n",
       "      <td>90036.0</td>\n",
       "      <td>West</td>\n",
       "      <td>OFF-LA-10000240</td>\n",
       "      <td>Office Supplies</td>\n",
       "      <td>Labels</td>\n",
       "      <td>Self-Adhesive Address Labels for Typewriters b...</td>\n",
       "      <td>14.6200</td>\n",
       "    </tr>\n",
       "    <tr>\n",
       "      <th>3</th>\n",
       "      <td>4</td>\n",
       "      <td>US-2016-108966</td>\n",
       "      <td>11/10/2016</td>\n",
       "      <td>18/10/2016</td>\n",
       "      <td>Standard Class</td>\n",
       "      <td>SO-20335</td>\n",
       "      <td>Sean O'Donnell</td>\n",
       "      <td>Consumer</td>\n",
       "      <td>United States</td>\n",
       "      <td>Fort Lauderdale</td>\n",
       "      <td>Florida</td>\n",
       "      <td>33311.0</td>\n",
       "      <td>South</td>\n",
       "      <td>FUR-TA-10000577</td>\n",
       "      <td>Furniture</td>\n",
       "      <td>Tables</td>\n",
       "      <td>Bretford CR4500 Series Slim Rectangular Table</td>\n",
       "      <td>957.5775</td>\n",
       "    </tr>\n",
       "    <tr>\n",
       "      <th>4</th>\n",
       "      <td>5</td>\n",
       "      <td>US-2016-108966</td>\n",
       "      <td>11/10/2016</td>\n",
       "      <td>18/10/2016</td>\n",
       "      <td>Standard Class</td>\n",
       "      <td>SO-20335</td>\n",
       "      <td>Sean O'Donnell</td>\n",
       "      <td>Consumer</td>\n",
       "      <td>United States</td>\n",
       "      <td>Fort Lauderdale</td>\n",
       "      <td>Florida</td>\n",
       "      <td>33311.0</td>\n",
       "      <td>South</td>\n",
       "      <td>OFF-ST-10000760</td>\n",
       "      <td>Office Supplies</td>\n",
       "      <td>Storage</td>\n",
       "      <td>Eldon Fold 'N Roll Cart System</td>\n",
       "      <td>22.3680</td>\n",
       "    </tr>\n",
       "  </tbody>\n",
       "</table>\n",
       "</div>"
      ],
      "text/plain": [
       "   Row ID        Order ID  Order Date   Ship Date       Ship Mode Customer ID  \\\n",
       "0       1  CA-2017-152156  08/11/2017  11/11/2017    Second Class    CG-12520   \n",
       "1       2  CA-2017-152156  08/11/2017  11/11/2017    Second Class    CG-12520   \n",
       "2       3  CA-2017-138688  12/06/2017  16/06/2017    Second Class    DV-13045   \n",
       "3       4  US-2016-108966  11/10/2016  18/10/2016  Standard Class    SO-20335   \n",
       "4       5  US-2016-108966  11/10/2016  18/10/2016  Standard Class    SO-20335   \n",
       "\n",
       "     Customer Name    Segment        Country             City       State  \\\n",
       "0      Claire Gute   Consumer  United States        Henderson    Kentucky   \n",
       "1      Claire Gute   Consumer  United States        Henderson    Kentucky   \n",
       "2  Darrin Van Huff  Corporate  United States      Los Angeles  California   \n",
       "3   Sean O'Donnell   Consumer  United States  Fort Lauderdale     Florida   \n",
       "4   Sean O'Donnell   Consumer  United States  Fort Lauderdale     Florida   \n",
       "\n",
       "   Postal Code Region       Product ID         Category Sub-Category  \\\n",
       "0      42420.0  South  FUR-BO-10001798        Furniture    Bookcases   \n",
       "1      42420.0  South  FUR-CH-10000454        Furniture       Chairs   \n",
       "2      90036.0   West  OFF-LA-10000240  Office Supplies       Labels   \n",
       "3      33311.0  South  FUR-TA-10000577        Furniture       Tables   \n",
       "4      33311.0  South  OFF-ST-10000760  Office Supplies      Storage   \n",
       "\n",
       "                                        Product Name     Sales  \n",
       "0                  Bush Somerset Collection Bookcase  261.9600  \n",
       "1  Hon Deluxe Fabric Upholstered Stacking Chairs,...  731.9400  \n",
       "2  Self-Adhesive Address Labels for Typewriters b...   14.6200  \n",
       "3      Bretford CR4500 Series Slim Rectangular Table  957.5775  \n",
       "4                     Eldon Fold 'N Roll Cart System   22.3680  "
      ]
     },
     "execution_count": 45,
     "metadata": {},
     "output_type": "execute_result"
    }
   ],
   "source": [
    "# view the first five rows to know what the dataset looks like\n",
    "\n",
    "df_sales.head()"
   ]
  },
  {
   "cell_type": "markdown",
   "id": "73252dde",
   "metadata": {},
   "source": [
    "### Descriptive Statistics \n",
    "* Checking to see some first observations through the statistical description"
   ]
  },
  {
   "cell_type": "code",
   "execution_count": 52,
   "id": "754fd967",
   "metadata": {},
   "outputs": [
    {
     "data": {
      "text/plain": [
       "(9800, 18)"
      ]
     },
     "execution_count": 52,
     "metadata": {},
     "output_type": "execute_result"
    }
   ],
   "source": [
    "# # I want to do the characterisation of the data set: size; number of attributes; has/does not have missing values,number of observations.\n",
    "\n",
    "# I want to know the number of attributes/ observations in the dataset\n",
    "\n",
    "df_sales.shape"
   ]
  },
  {
   "cell_type": "code",
   "execution_count": 47,
   "id": "2fd2b78e",
   "metadata": {},
   "outputs": [
    {
     "name": "stdout",
     "output_type": "stream",
     "text": [
      "<class 'pandas.core.frame.DataFrame'>\n",
      "RangeIndex: 9800 entries, 0 to 9799\n",
      "Data columns (total 18 columns):\n",
      " #   Column         Non-Null Count  Dtype  \n",
      "---  ------         --------------  -----  \n",
      " 0   Row ID         9800 non-null   int64  \n",
      " 1   Order ID       9800 non-null   object \n",
      " 2   Order Date     9800 non-null   object \n",
      " 3   Ship Date      9800 non-null   object \n",
      " 4   Ship Mode      9800 non-null   object \n",
      " 5   Customer ID    9800 non-null   object \n",
      " 6   Customer Name  9800 non-null   object \n",
      " 7   Segment        9800 non-null   object \n",
      " 8   Country        9800 non-null   object \n",
      " 9   City           9800 non-null   object \n",
      " 10  State          9800 non-null   object \n",
      " 11  Postal Code    9789 non-null   float64\n",
      " 12  Region         9800 non-null   object \n",
      " 13  Product ID     9800 non-null   object \n",
      " 14  Category       9800 non-null   object \n",
      " 15  Sub-Category   9800 non-null   object \n",
      " 16  Product Name   9800 non-null   object \n",
      " 17  Sales          9800 non-null   float64\n",
      "dtypes: float64(2), int64(1), object(15)\n",
      "memory usage: 1.3+ MB\n"
     ]
    }
   ],
   "source": [
    "# Checking the data type of the attributes present in the dataset\n",
    "\n",
    "df_sales.info()"
   ]
  },
  {
   "cell_type": "code",
   "execution_count": 48,
   "id": "ab5f0da0",
   "metadata": {},
   "outputs": [
    {
     "data": {
      "text/html": [
       "<div>\n",
       "<style scoped>\n",
       "    .dataframe tbody tr th:only-of-type {\n",
       "        vertical-align: middle;\n",
       "    }\n",
       "\n",
       "    .dataframe tbody tr th {\n",
       "        vertical-align: top;\n",
       "    }\n",
       "\n",
       "    .dataframe thead th {\n",
       "        text-align: right;\n",
       "    }\n",
       "</style>\n",
       "<table border=\"1\" class=\"dataframe\">\n",
       "  <thead>\n",
       "    <tr style=\"text-align: right;\">\n",
       "      <th></th>\n",
       "      <th>Row ID</th>\n",
       "      <th>Postal Code</th>\n",
       "      <th>Sales</th>\n",
       "    </tr>\n",
       "  </thead>\n",
       "  <tbody>\n",
       "    <tr>\n",
       "      <th>count</th>\n",
       "      <td>9800.000000</td>\n",
       "      <td>9789.000000</td>\n",
       "      <td>9800.000000</td>\n",
       "    </tr>\n",
       "    <tr>\n",
       "      <th>mean</th>\n",
       "      <td>4900.500000</td>\n",
       "      <td>55273.322403</td>\n",
       "      <td>230.769059</td>\n",
       "    </tr>\n",
       "    <tr>\n",
       "      <th>std</th>\n",
       "      <td>2829.160653</td>\n",
       "      <td>32041.223413</td>\n",
       "      <td>626.651875</td>\n",
       "    </tr>\n",
       "    <tr>\n",
       "      <th>min</th>\n",
       "      <td>1.000000</td>\n",
       "      <td>1040.000000</td>\n",
       "      <td>0.444000</td>\n",
       "    </tr>\n",
       "    <tr>\n",
       "      <th>25%</th>\n",
       "      <td>2450.750000</td>\n",
       "      <td>23223.000000</td>\n",
       "      <td>17.248000</td>\n",
       "    </tr>\n",
       "    <tr>\n",
       "      <th>50%</th>\n",
       "      <td>4900.500000</td>\n",
       "      <td>58103.000000</td>\n",
       "      <td>54.490000</td>\n",
       "    </tr>\n",
       "    <tr>\n",
       "      <th>75%</th>\n",
       "      <td>7350.250000</td>\n",
       "      <td>90008.000000</td>\n",
       "      <td>210.605000</td>\n",
       "    </tr>\n",
       "    <tr>\n",
       "      <th>max</th>\n",
       "      <td>9800.000000</td>\n",
       "      <td>99301.000000</td>\n",
       "      <td>22638.480000</td>\n",
       "    </tr>\n",
       "  </tbody>\n",
       "</table>\n",
       "</div>"
      ],
      "text/plain": [
       "            Row ID   Postal Code         Sales\n",
       "count  9800.000000   9789.000000   9800.000000\n",
       "mean   4900.500000  55273.322403    230.769059\n",
       "std    2829.160653  32041.223413    626.651875\n",
       "min       1.000000   1040.000000      0.444000\n",
       "25%    2450.750000  23223.000000     17.248000\n",
       "50%    4900.500000  58103.000000     54.490000\n",
       "75%    7350.250000  90008.000000    210.605000\n",
       "max    9800.000000  99301.000000  22638.480000"
      ]
     },
     "execution_count": 48,
     "metadata": {},
     "output_type": "execute_result"
    }
   ],
   "source": [
    "df_sales.describe()"
   ]
  },
  {
   "cell_type": "code",
   "execution_count": 49,
   "id": "96e0edd6",
   "metadata": {},
   "outputs": [
    {
     "data": {
      "text/plain": [
       "Row ID            0\n",
       "Order ID          0\n",
       "Order Date        0\n",
       "Ship Date         0\n",
       "Ship Mode         0\n",
       "Customer ID       0\n",
       "Customer Name     0\n",
       "Segment           0\n",
       "Country           0\n",
       "City              0\n",
       "State             0\n",
       "Postal Code      11\n",
       "Region            0\n",
       "Product ID        0\n",
       "Category          0\n",
       "Sub-Category      0\n",
       "Product Name      0\n",
       "Sales             0\n",
       "dtype: int64"
      ]
     },
     "execution_count": 49,
     "metadata": {},
     "output_type": "execute_result"
    }
   ],
   "source": [
    "# Check for missing values \n",
    "\n",
    "df_sales.isnull().sum()"
   ]
  },
  {
   "cell_type": "code",
   "execution_count": 50,
   "id": "b79ce270",
   "metadata": {},
   "outputs": [
    {
     "data": {
      "text/plain": [
       "0"
      ]
     },
     "execution_count": 50,
     "metadata": {},
     "output_type": "execute_result"
    }
   ],
   "source": [
    "# Checking for duplicates\n",
    "\n",
    "df_sales.duplicated().sum()"
   ]
  },
  {
   "cell_type": "markdown",
   "id": "f2ee5dd3",
   "metadata": {},
   "source": [
    "### Some of the first Observations are as follows;\n",
    "* There are 9800 observations and 18 variables\n",
    "* There are 15 object type variables and 3 others are all numerical Variables\n",
    "* There are some missing values and outliers in sales, these will be explore more during out Data Processing stage.\n",
    "* We do not need to scale the missing values as we can see, it is not up to 10% of the whole dataset. Deleting that won't have any effect on our analysis."
   ]
  },
  {
   "cell_type": "markdown",
   "id": "b030289e",
   "metadata": {},
   "source": [
    "### Data preparation / preprocessing"
   ]
  },
  {
   "cell_type": "code",
   "execution_count": 53,
   "id": "625beebe",
   "metadata": {},
   "outputs": [
    {
     "data": {
      "text/plain": [
       "0.11224489795918367"
      ]
     },
     "execution_count": 53,
     "metadata": {},
     "output_type": "execute_result"
    }
   ],
   "source": [
    "# Scaling the Postal Code variable to see percentage of missing values.\n",
    "\n",
    "#calculting isnull() % for 'Income'\n",
    "df_sales[df_sales['Postal Code'].isnull()].shape[0]* 100 / len(df_sales)"
   ]
  },
  {
   "cell_type": "markdown",
   "id": "24c076d8",
   "metadata": {},
   "source": [
    "* The percentage of the missing data is relatively small at 0.1% \n",
    "* It is safe to drop the missing values as it won't have any negative effect on our dataset."
   ]
  },
  {
   "cell_type": "code",
   "execution_count": 55,
   "id": "50a71a13",
   "metadata": {},
   "outputs": [
    {
     "data": {
      "text/plain": [
       "Row ID           0\n",
       "Order ID         0\n",
       "Order Date       0\n",
       "Ship Date        0\n",
       "Ship Mode        0\n",
       "Customer ID      0\n",
       "Customer Name    0\n",
       "Segment          0\n",
       "Country          0\n",
       "City             0\n",
       "State            0\n",
       "Postal Code      0\n",
       "Region           0\n",
       "Product ID       0\n",
       "Category         0\n",
       "Sub-Category     0\n",
       "Product Name     0\n",
       "Sales            0\n",
       "dtype: int64"
      ]
     },
     "execution_count": 55,
     "metadata": {},
     "output_type": "execute_result"
    }
   ],
   "source": [
    "# Drop rows where the 'postcode' column has missing values\n",
    "df_sales= df_sales.dropna(subset=['Postal Code'])\n",
    "\n",
    "# Check for missing values \n",
    "\n",
    "df_sales.isnull().sum()"
   ]
  },
  {
   "cell_type": "code",
   "execution_count": 58,
   "id": "68f83f5c",
   "metadata": {},
   "outputs": [
    {
     "data": {
      "image/png": "[encoded data removed]",
      "text/plain": [
       "<Figure size 1200x600 with 1 Axes>"
      ]
     },
     "metadata": {},
     "output_type": "display_data"
    }
   ],
   "source": [
    "# Now we will treat the outlier in sales but I will like to view the outlier first.\n",
    "\n",
    "# Visualize outliers using box plots\n",
    "plt.figure(figsize=(12, 6))\n",
    "sns.boxplot(data=df_sales[['Sales']])\n",
    "plt.title('Boxplot of Sales', pad=20, fontsize=15, color='black')\n",
    "plt.xlabel('Attribute', fontsize=14, color=\"black\")\n",
    "plt.ylabel('Value', fontsize=14, color=\"black\")\n",
    "plt.show()"
   ]
  },
  {
   "cell_type": "code",
   "execution_count": 61,
   "id": "af8910ed",
   "metadata": {},
   "outputs": [],
   "source": [
    "# Removing outliers using Z-score\n",
    "z_scores = zscore(df_sales[['Sales']])\n",
    "threshold = 3\n",
    "outliers = (np.abs(z_scores) > threshold).any(axis=1)\n",
    "df_sales = df_sales[~outliers]"
   ]
  },
  {
   "cell_type": "code",
   "execution_count": 64,
   "id": "c965fb1c",
   "metadata": {},
   "outputs": [
    {
     "data": {
      "image/png": "[encoded data removed]",
      "text/plain": [
       "<Figure size 800x500 with 1 Axes>"
      ]
     },
     "metadata": {},
     "output_type": "display_data"
    }
   ],
   "source": [
    "# Visualize outliers removed using box plots\n",
    "plt.figure(figsize=(8, 5))\n",
    "sns.boxplot(data=df_sales[['Sales']])\n",
    "plt.title('Boxplot of Sales (Outliers Removed)', pad=20, fontsize=15, color='black')\n",
    "plt.xlabel('Attribute', fontsize=14, color=\"black\")\n",
    "plt.ylabel('Value', fontsize=14, color=\"black\")\n",
    "plt.show()"
   ]
  },
  {
   "cell_type": "code",
   "execution_count": 65,
   "id": "39d324a4",
   "metadata": {},
   "outputs": [],
   "source": [
    "# Rectify outliers by capping\n",
    "# Capping outliers in 'Sales'\n",
    "sales_cap = df_sales['Sales'].quantile(0.95)\n",
    "df_sales.loc[df_sales['Sales'] > sales_cap, 'Income'] = sales_cap"
   ]
  },
  {
   "cell_type": "markdown",
   "id": "945653f4",
   "metadata": {},
   "source": [
    "## Exploratory Analysis"
   ]
  },
  {
   "cell_type": "code",
   "execution_count": null,
   "id": "bc521d04",
   "metadata": {},
   "outputs": [],
   "source": []
  }
 ],
 "metadata": {
  "kernelspec": {
   "display_name": "Python 3 (ipykernel)",
   "language": "python",
   "name": "python3"
  },
  "language_info": {
   "codemirror_mode": {
    "name": "ipython",
    "version": 3
   },
   "file_extension": ".py",
   "mimetype": "text/x-python",
   "name": "python",
   "nbconvert_exporter": "python",
   "pygments_lexer": "ipython3",
   "version": "3.11.3"
  }
 },
 "nbformat": 4,
 "nbformat_minor": 5
}
